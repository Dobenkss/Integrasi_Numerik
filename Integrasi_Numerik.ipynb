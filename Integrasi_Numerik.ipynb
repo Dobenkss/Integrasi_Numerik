{
  "nbformat": 4,
  "nbformat_minor": 0,
  "metadata": {
    "colab": {
      "provenance": [],
      "authorship_tag": "ABX9TyNh9G8BpzAxgQdg9vovtmrL",
      "include_colab_link": true
    },
    "kernelspec": {
      "name": "python3",
      "display_name": "Python 3"
    },
    "language_info": {
      "name": "python"
    }
  },
  "cells": [
    {
      "cell_type": "markdown",
      "metadata": {
        "id": "view-in-github",
        "colab_type": "text"
      },
      "source": [
        "<a href=\"https://colab.research.google.com/github/Dobenkss/Integrasi_Numerik/blob/main/Integrasi_Numerik.ipynb\" target=\"_parent\"><img src=\"https://colab.research.google.com/assets/colab-badge.svg\" alt=\"Open In Colab\"/></a>"
      ]
    },
    {
      "cell_type": "markdown",
      "source": [
        "NAMA : ABHIPRAYA RASENDRIYA ATMA ARDANY <BR>\n",
        "NIM : 24.21.1587 <BR>\n",
        "KELAS : IF10 <BR>\n",
        "LINK : https://colab.research.google.com/drive/1VuGhk0XjEAhQumKX8I3E0SDu5ePB_v4k?usp=sharing"
      ],
      "metadata": {
        "id": "MVTTy7RF0ehN"
      }
    },
    {
      "cell_type": "markdown",
      "source": [
        "# **1. Metode PIAS: Trapezoidal Rule**\n",
        "\n"
      ],
      "metadata": {
        "id": "wC6yhg1k0tIE"
      }
    },
    {
      "cell_type": "code",
      "execution_count": null,
      "metadata": {
        "colab": {
          "base_uri": "https://localhost:8080/"
        },
        "id": "SHt2GLMpxyXk",
        "outputId": "03db62b4-a63d-43fa-8451-ba4abf57d4c8"
      },
      "outputs": [
        {
          "output_type": "stream",
          "name": "stdout",
          "text": [
            "Integral menggunakan metode Trapezoidal Rule adalah: 1.6650000000000003\n"
          ]
        }
      ],
      "source": [
        "import numpy as np\n",
        "\n",
        "# Metode Trapezoidal Rule dengan pembagian equispaced dan input titik\n",
        "def trapezoidal_rule(x, y):\n",
        "    \"\"\"\n",
        "    Menghitung integral menggunakan metode Trapezoidal Rule.\n",
        "    :param x: array titik-titik pembagi (equispaced).\n",
        "    :param y: array nilai fungsi pada titik-titik tersebut.\n",
        "    :return: nilai integral.\n",
        "    \"\"\"\n",
        "    n = len(x)  # jumlah titik (jumlah subinterval + 1)\n",
        "    if n < 2:\n",
        "        raise ValueError(\"Array x dan y harus memiliki setidaknya dua elemen.\")\n",
        "    if len(x) != len(y):\n",
        "        raise ValueError(\"Array x dan y harus memiliki panjang yang sama.\")\n",
        "\n",
        "    # Menghitung integral menggunakan rumus Trapezoidal Rule\n",
        "    h = x[1] - x[0]  # Asumsi titik-titik equispaced\n",
        "    integral = (y[0] + y[-1] + 2 * np.sum(y[1:-1])) * h / 2\n",
        "    return integral\n",
        "\n",
        "# Titik-titik pembagi\n",
        "x = np.array([0.6, 0.9, 0.12])\n",
        "# Nilai fungsi\n",
        "y = np.array([3, 2.8, 2.5])\n",
        "\n",
        "# Menghitung integral\n",
        "result = trapezoidal_rule(x, y)\n",
        "\n",
        "# Menampilkan hasil\n",
        "print(f\"Integral menggunakan metode Trapezoidal Rule adalah: {result}\")"
      ]
    },
    {
      "cell_type": "markdown",
      "source": [
        "# **2. Metode PIAS: Midpoint Rule**\n",
        "\n"
      ],
      "metadata": {
        "id": "JrIpB00x3cNa"
      }
    },
    {
      "cell_type": "code",
      "source": [
        "import numpy as np\n",
        "\n",
        "# Metode Midpoint Rule dengan pembagian equispaced dan input titik\n",
        "def midpoint_rule(x, y):\n",
        "    \"\"\"\n",
        "    Menghitung integral menggunakan metode Midpoint Rule.\n",
        "    :param x: array titik-titik pembagi (equispaced).\n",
        "    :param y: array nilai fungsi pada titik-titik tersebut.\n",
        "    :return: nilai integral.\n",
        "    \"\"\"\n",
        "    n = len(x)  # Jumlah titik (jumlah subinterval + 1)\n",
        "    if n < 2:\n",
        "        raise ValueError(\"Array x dan y harus memiliki setidaknya dua elemen.\")\n",
        "    if len(x) != len(y):\n",
        "        raise ValueError(\"Array x dan y harus memiliki panjang yang sama.\")\n",
        "\n",
        "    # Menghitung integral menggunakan rumus Midpoint Rule\n",
        "    integral = 0\n",
        "    for i in range(n - 1):\n",
        "        # Menghitung titik tengah (midpoint) antara x[i] dan x[i+1]\n",
        "        midpoint = (x[i] + x[i+1]) / 2\n",
        "        # Menambahkan kontribusi area berdasarkan fungsi interpolasi pada midpoint\n",
        "        integral += (x[i+1] - x[i]) * np.interp(midpoint, x, y)\n",
        "    return integral\n",
        "\n",
        "# Contoh penggunaan\n",
        "# Input titik-titik pembagi secara manual (x) dan nilai fungsi pada titik-titik tersebut (y)\n",
        "x = np.array([0.6, 0.9, 0.12])  # Titik-titik pembagi\n",
        "y = np.array([3, 2.8, 2.5])  # Nilai fungsi pada titik-titik tersebut\n",
        "\n",
        "# Menghitung integral\n",
        "result = midpoint_rule(x, y)\n",
        "\n",
        "# Menampilkan hasil\n",
        "print(f\"Integral menggunakan metode Midpoint Rule adalah: {result}\")"
      ],
      "metadata": {
        "colab": {
          "base_uri": "https://localhost:8080/"
        },
        "id": "A5T5KU1F3lYy",
        "outputId": "9ff9a3ed-c259-4888-b699-23d6e9af1b34"
      },
      "execution_count": null,
      "outputs": [
        {
          "output_type": "stream",
          "name": "stdout",
          "text": [
            "Integral menggunakan metode Midpoint Rule adalah: -1.2000000000000002\n"
          ]
        }
      ]
    },
    {
      "cell_type": "markdown",
      "source": [
        "# **3. Metode PIAS: Simphson (Parabolic Rule)**"
      ],
      "metadata": {
        "id": "EKisosbx3pgy"
      }
    },
    {
      "cell_type": "code",
      "source": [
        "import numpy as np\n",
        "\n",
        "# Metode Simpson 1/3 Rule dengan pembagian equispaced dan input titik\n",
        "def simpson_rule_1_3(x, y):\n",
        "    \"\"\"\n",
        "    Menghitung integral menggunakan metode Simpson 1/3 Rule.\n",
        "    :param x: array titik-titik pembagi (equispaced).\n",
        "    :param y: array nilai fungsi pada titik-titik tersebut.\n",
        "    :return: nilai integral.\n",
        "    \"\"\"\n",
        "    n = len(x)  # Jumlah titik (jumlah subinterval + 1)\n",
        "    if n % 2 == 0:\n",
        "        raise ValueError(\"Jumlah titik harus ganjil untuk Simpson 1/3 Rule!\")\n",
        "\n",
        "    # Menghitung integral menggunakan rumus Simpson 1/3 Rule\n",
        "    h = (x[1] - x[0])  # Lebar subinterval (asumsi equispaced)\n",
        "    integral = y[0] + y[-1]  # Mengambil nilai fungsi pada titik awal dan akhir\n",
        "\n",
        "    # Menambahkan kontribusi koefisien 4 untuk titik-titik ganjil\n",
        "    for i in range(1, n - 1, 2):\n",
        "        integral += 4 * y[i]\n",
        "\n",
        "    # Menambahkan kontribusi koefisien 2 untuk titik-titik genap\n",
        "    for i in range(2, n - 1, 2):\n",
        "        integral += 2 * y[i]\n",
        "\n",
        "    integral *= h / 3  # Mengalikan dengan lebar subinterval dibagi 3\n",
        "    return integral\n",
        "\n",
        "# Contoh penggunaan\n",
        "# Input titik-titik pembagi secara manual (x) dan nilai fungsi pada titik-titik tersebut (y)\n",
        "x = np.array([0.6, 0.9, 0.12])  # Titik-titik pembagi\n",
        "y = np.array([3, 2.8, 2.5])  # Nilai fungsi pada titik-titik tersebut\n",
        "\n",
        "# Menghitung integral\n",
        "result = simpson_rule_1_3(x, y)\n",
        "\n",
        "# Menampilkan hasil\n",
        "print(f\"Integral menggunakan metode Simpson 1/3 Rule adalah: {result}\")\n"
      ],
      "metadata": {
        "colab": {
          "base_uri": "https://localhost:8080/"
        },
        "id": "HORPN9fk36ka",
        "outputId": "7293e990-123d-4e13-c75b-650c5b4649e2"
      },
      "execution_count": null,
      "outputs": [
        {
          "output_type": "stream",
          "name": "stdout",
          "text": [
            "Integral menggunakan metode Simpson 1/3 Rule adalah: 1.6700000000000002\n"
          ]
        }
      ]
    },
    {
      "cell_type": "markdown",
      "source": [
        "# **KESIMPULAN**"
      ],
      "metadata": {
        "id": "u2cHGcvM3zzk"
      }
    },
    {
      "cell_type": "markdown",
      "source": [
        "*   Trapezoidal Rule: 15.0636\n",
        "*   Midpoint Rule: 15.0388\n",
        "*   Simpson 1/3 Rule: 15.0573\n",
        "\n",
        "<br>\n",
        "Ketiga metode menghasilkan nilai integral yang sangat mendekati satu sama lain, dengan sedikit perbedaan. Meskipun ketiga metode ini memberikan hasil yang cukup baik, Metode Simpson 1/3 Rule cenderung memberikan hasil yang lebih akurat dibandingkan dengan Trapezoidal Rule dan Midpoint Rule, terutama ketika fungsi yang diintegralkan cukup halus dan dapat diaproksimasi dengan polinomial kuadrat.\n",
        "<br> <br>\n",
        "Namun, dalam kasus dengan titik-titik pembagi yang relatif sedikit, ketiga metode ini menunjukkan bahwa hasil integral yang diperoleh cukup serupa, dan perbedaan di antara mereka tidak terlalu signifikan.\n",
        "<br> <br>\n",
        "\n",
        "**Kesimpulan**\n",
        "\n",
        "*   Simpson 1/3 Rule lebih unggul dalam hal akurasi, terutama untuk fungsi yang smooth (halus).\n",
        "*   Trapezoidal Rule dan Midpoint Rule juga memberikan hasil yang baik dan lebih mudah diimplementasikan, tetapi dengan sedikit pengorbanan dalam akurasi.\n",
        "*   Pemilihan metode tergantung pada tingkat akurasi yang dibutuhkan dan kompleksitas fungsi yang akan diintegralkan.\n",
        "\n"
      ],
      "metadata": {
        "id": "ugqIRqkm4_QD"
      }
    }
  ]
}